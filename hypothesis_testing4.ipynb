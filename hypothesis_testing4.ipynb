{
 "cells": [
  {
   "cell_type": "markdown",
   "id": "3de7a112-1931-49b1-8c07-8f082e1362bf",
   "metadata": {},
   "source": [
    "### Mağaza sahibi, son birkaç yılda satılan ürünlerle ilgili verileri toplamıştır. Verileride her ürün için satış miktarı, fiyatı, ürün kategorisi, müşteri bilgileri ve satın alma tarihi gibi bilgiler yer almaktadır. "
   ]
  },
  {
   "cell_type": "code",
   "execution_count": 2,
   "id": "255eb23f-c40f-4f0e-84b7-2217358f5a4d",
   "metadata": {},
   "outputs": [
    {
     "data": {
      "text/html": [
       "<div>\n",
       "<style scoped>\n",
       "    .dataframe tbody tr th:only-of-type {\n",
       "        vertical-align: middle;\n",
       "    }\n",
       "\n",
       "    .dataframe tbody tr th {\n",
       "        vertical-align: top;\n",
       "    }\n",
       "\n",
       "    .dataframe thead th {\n",
       "        text-align: right;\n",
       "    }\n",
       "</style>\n",
       "<table border=\"1\" class=\"dataframe\">\n",
       "  <thead>\n",
       "    <tr style=\"text-align: right;\">\n",
       "      <th></th>\n",
       "      <th>Ürün</th>\n",
       "      <th>Satış_Miktarı</th>\n",
       "      <th>Fiyat</th>\n",
       "      <th>Kategori</th>\n",
       "      <th>Müşteri_Tipi</th>\n",
       "      <th>Satın_Alma_Tarihi</th>\n",
       "    </tr>\n",
       "  </thead>\n",
       "  <tbody>\n",
       "    <tr>\n",
       "      <th>0</th>\n",
       "      <td>Ayakkabı</td>\n",
       "      <td>250</td>\n",
       "      <td>150</td>\n",
       "      <td>Giyim</td>\n",
       "      <td>Erkek</td>\n",
       "      <td>2022-01-01</td>\n",
       "    </tr>\n",
       "    <tr>\n",
       "      <th>1</th>\n",
       "      <td>Çanta</td>\n",
       "      <td>300</td>\n",
       "      <td>200</td>\n",
       "      <td>Giyim</td>\n",
       "      <td>Kadın</td>\n",
       "      <td>2022-01-01</td>\n",
       "    </tr>\n",
       "    <tr>\n",
       "      <th>2</th>\n",
       "      <td>T-Shirt</td>\n",
       "      <td>150</td>\n",
       "      <td>50</td>\n",
       "      <td>Giyim</td>\n",
       "      <td>Erkek</td>\n",
       "      <td>2022-01-01</td>\n",
       "    </tr>\n",
       "    <tr>\n",
       "      <th>3</th>\n",
       "      <td>Pantolon</td>\n",
       "      <td>200</td>\n",
       "      <td>100</td>\n",
       "      <td>Giyim</td>\n",
       "      <td>Kadın</td>\n",
       "      <td>2022-01-02</td>\n",
       "    </tr>\n",
       "    <tr>\n",
       "      <th>4</th>\n",
       "      <td>Şapka</td>\n",
       "      <td>100</td>\n",
       "      <td>25</td>\n",
       "      <td>Aksesuar</td>\n",
       "      <td>Erkek</td>\n",
       "      <td>2022-01-02</td>\n",
       "    </tr>\n",
       "  </tbody>\n",
       "</table>\n",
       "</div>"
      ],
      "text/plain": [
       "       Ürün  Satış_Miktarı  Fiyat  Kategori Müşteri_Tipi Satın_Alma_Tarihi\n",
       "0  Ayakkabı            250    150     Giyim        Erkek        2022-01-01\n",
       "1     Çanta            300    200     Giyim        Kadın        2022-01-01\n",
       "2   T-Shirt            150     50     Giyim        Erkek        2022-01-01\n",
       "3  Pantolon            200    100     Giyim        Kadın        2022-01-02\n",
       "4     Şapka            100     25  Aksesuar        Erkek        2022-01-02"
      ]
     },
     "execution_count": 2,
     "metadata": {},
     "output_type": "execute_result"
    }
   ],
   "source": [
    "import pandas as pd\n",
    "\n",
    "# Veri setini oluşturma\n",
    "data = {'Ürün': ['Ayakkabı', 'Çanta', 'T-Shirt', 'Pantolon', 'Şapka', 'Cüzdan', 'Kemer', 'Gözlük', 'Şort', 'Eşarp'],\n",
    "        'Satış_Miktarı': [250, 300, 150, 200, 100, 75, 50, 25, 100, 125],\n",
    "        'Fiyat': [150, 200, 50, 100, 25, 75, 40, 200, 40, 75],\n",
    "        'Kategori': ['Giyim', 'Giyim', 'Giyim', 'Giyim', 'Aksesuar', 'Aksesuar', 'Aksesuar', 'Aksesuar', 'Giyim', 'Aksesuar'],\n",
    "        'Müşteri_Tipi': ['Erkek', 'Kadın', 'Erkek', 'Kadın', 'Erkek', 'Kadın', 'Erkek', 'Kadın', 'Erkek', 'Kadın'],\n",
    "        'Satın_Alma_Tarihi': ['2022-01-01', '2022-01-01', '2022-01-01', '2022-01-02', '2022-01-02', '2022-01-02', '2022-01-03', '2022-01-03', '2022-01-03', '2022-01-03']\n",
    "        }\n",
    "\n",
    "df = pd.DataFrame(data)\n",
    "df.head()"
   ]
  },
  {
   "cell_type": "markdown",
   "id": "39058189-b003-45b3-881b-5f2b4e3fbe5c",
   "metadata": {},
   "source": [
    "# Hipotez Testleri"
   ]
  },
  {
   "cell_type": "markdown",
   "id": "1a933ec8-aaee-4cb9-bad3-35c8b3f2dc5d",
   "metadata": {},
   "source": [
    "### H0: Erkek müşteriler kadın müşterilere göre daha fazla alışveriş yapar.\n",
    "### H1: Erkek müşterileri kadın müşterilere göre daha fazla alışveriş yapmaz."
   ]
  },
  {
   "cell_type": "markdown",
   "id": "852ceefa-8cd0-4b06-91c6-132026ebff78",
   "metadata": {},
   "source": [
    "#### Bu hipotez için, t-testi kullanılabilir. T-testi, iki grup arasındaki ortalama değer farkının istatistiksel olarak anlamlı olup olmadığını test etmek için kullanılır. Burada iki grup, erkek müşteriler ve kadın müşterilerdir. "
   ]
  },
  {
   "cell_type": "code",
   "execution_count": 3,
   "id": "03677ea8-ba7c-41e6-9391-67266f203ee7",
   "metadata": {},
   "outputs": [],
   "source": [
    "# erkek müşterilerin satın alma miktarı\n",
    "male_sales = df[df['Müşteri_Tipi'] == 'Erkek']['Satış_Miktarı']\n",
    "\n",
    "# kadın müşterilerin satın alma miktarı\n",
    "female_sales = df[df['Müşteri_Tipi'] == 'Kadın']['Satış_Miktarı']"
   ]
  },
  {
   "cell_type": "code",
   "execution_count": 13,
   "id": "b8dfc76d-680a-4b9b-87ff-c487334edb6d",
   "metadata": {},
   "outputs": [
    {
     "name": "stdout",
     "output_type": "stream",
     "text": [
      "Test İstatistiği:  -0.254000254000381\n",
      "P-Value:  0.8059018006754489\n",
      "H0 hipotezi reddedilir. Erkek müşteriler, kadın müşterilere göre daha fazla alışveriş yapmaz.\n"
     ]
    }
   ],
   "source": [
    "from scipy.stats import ttest_ind\n",
    "\n",
    "t_stat, p_value = ttest_ind(male_sales, female_sales)\n",
    "print('Test İstatistiği: ', t_stat)\n",
    "print('P-Value: ', p_value)\n",
    "\n",
    "alpha = 0.05\n",
    "if p_value < alpha:\n",
    "    print('H0 hipotezi reddedilmez. Erkek müşteriler, kadın müşterilere göre daha fazla alışveriş yapar')\n",
    "else:\n",
    "    print('H0 hipotezi reddedilir. Erkek müşteriler, kadın müşterilere göre daha fazla alışveriş yapmaz.')"
   ]
  },
  {
   "cell_type": "markdown",
   "id": "236d0493-82e2-4b36-9554-4e368d7100a0",
   "metadata": {},
   "source": [
    "### Şimdi ise hipotez testimizin sağlamasını yapalım."
   ]
  },
  {
   "cell_type": "code",
   "execution_count": 12,
   "id": "a529ecb3-2133-42ff-bb82-5338815ea95a",
   "metadata": {},
   "outputs": [
    {
     "data": {
      "text/plain": [
       "Müşteri_Tipi\n",
       "Erkek    5\n",
       "Kadın    5\n",
       "Name: Satış_Miktarı, dtype: int64"
      ]
     },
     "execution_count": 12,
     "metadata": {},
     "output_type": "execute_result"
    }
   ],
   "source": [
    "df.groupby('Müşteri_Tipi')['Satış_Miktarı'].count()"
   ]
  },
  {
   "cell_type": "markdown",
   "id": "f0dda879-705f-4dff-ad02-c6aca962d1ae",
   "metadata": {},
   "source": [
    "# ----------------------------------------"
   ]
  },
  {
   "cell_type": "markdown",
   "id": "9cebed1b-adbd-4db8-93c0-0aec3979c166",
   "metadata": {},
   "source": [
    "### H0: Farklı kategorilerdeki ürünlerin fiyatları birbirinden farklı değildir.\n",
    "### H1: Farklı kategorilerdeki ürünlerin fiyatları birbirinden farklıdır."
   ]
  },
  {
   "cell_type": "markdown",
   "id": "4f7b97cf-3fb3-4d55-81a5-e007a20070c8",
   "metadata": {},
   "source": [
    "#### Bu hipotez için, ANOVA (Analysis of Variance) (Varyans Analizi) testi kullanabiliriz. ANOVA testi, iki veya daha fazla grup arasındaki farklılıkları karşılaştırmak için kullanılır."
   ]
  },
  {
   "cell_type": "code",
   "execution_count": 9,
   "id": "41e2938a-1e4a-4fd6-b73a-adabe2d83782",
   "metadata": {},
   "outputs": [
    {
     "data": {
      "text/plain": [
       "Kategori\n",
       "Aksesuar     83.0\n",
       "Giyim       108.0\n",
       "Name: Fiyat, dtype: float64"
      ]
     },
     "execution_count": 9,
     "metadata": {},
     "output_type": "execute_result"
    }
   ],
   "source": [
    "# kategorilere göre fiyatların ortalaması\n",
    "grouped_df = df.groupby('Kategori')['Fiyat'].mean()\n",
    "grouped_df"
   ]
  },
  {
   "cell_type": "code",
   "execution_count": 11,
   "id": "f1bb5b09-51f5-451e-b28b-03c6e3098292",
   "metadata": {},
   "outputs": [
    {
     "name": "stdout",
     "output_type": "stream",
     "text": [
      "P-Value:  0.5786394813078377\n",
      "H0 hipotezi reddedilir. Farklı kategorilerdeki ürünlerin fiyatları birbirinden farklıdır.\n"
     ]
    }
   ],
   "source": [
    "from scipy.stats import f_oneway\n",
    "\n",
    "result = f_oneway(\n",
    "    df[df['Kategori'] == 'Giyim']['Fiyat'],\n",
    "    df[df['Kategori'] == 'Aksesuar']['Fiyat']\n",
    ")\n",
    "print('P-Value: ', result.pvalue)\n",
    "\n",
    "alpha = 0.05\n",
    "if result.pvalue < alpha:\n",
    "    print('H0 hipotezi reddedilmez. Farklı kategorilerdeki ürünlerin fiyatları birbirinden farklı değildir.')\n",
    "else:\n",
    "    print('H0 hipotezi reddedilir. Farklı kategorilerdeki ürünlerin fiyatları birbirinden farklıdır.')"
   ]
  },
  {
   "cell_type": "markdown",
   "id": "c0e6ca40-abd1-4f0b-a94b-123570ba6f76",
   "metadata": {},
   "source": [
    "### Şimdi ise hipotez testimizin sağlamasını yapalım."
   ]
  },
  {
   "cell_type": "code",
   "execution_count": 14,
   "id": "47ef45a2-3f6a-4a39-ac98-302af018150d",
   "metadata": {},
   "outputs": [
    {
     "data": {
      "text/plain": [
       "Kategori\n",
       "Aksesuar     83.0\n",
       "Giyim       108.0\n",
       "Name: Fiyat, dtype: float64"
      ]
     },
     "execution_count": 14,
     "metadata": {},
     "output_type": "execute_result"
    }
   ],
   "source": [
    "df.groupby('Kategori')['Fiyat'].mean()"
   ]
  },
  {
   "cell_type": "markdown",
   "id": "3e6de3c5-37b7-4b8c-ad9b-59603e480ab4",
   "metadata": {},
   "source": [
    "# ---------------------------------------"
   ]
  },
  {
   "cell_type": "markdown",
   "id": "e76c0fb9-f302-430c-b35a-24c35af51e1e",
   "metadata": {},
   "source": [
    "### H0: Satış miktarı ve fiyat arasında bir ilişki vardır.\n",
    "### H1: Satış miktarı ve fiyat arasında bir ilişki yoktur."
   ]
  },
  {
   "cell_type": "markdown",
   "id": "adff71d4-0b09-451b-b529-92d33c54f0da",
   "metadata": {},
   "source": [
    "#### Bu hipotez için, Pearson korelasyon testini kullanabiliriz. Pearson korelasyon testi, iki değişken arasındaki ilişkiyi ölçmek için kullanılır. Bu test, iki değişken arasındaki doğrusal bir ilişkinin varlığını ve gücünü belirlemek için kullanılır."
   ]
  },
  {
   "cell_type": "code",
   "execution_count": 16,
   "id": "b2298d7b-4709-407c-979c-ddb65d65348a",
   "metadata": {},
   "outputs": [
    {
     "data": {
      "image/png": "[encoded data removed]",
      "text/plain": [
       "<Figure size 432x288 with 1 Axes>"
      ]
     },
     "metadata": {
      "needs_background": "light"
     },
     "output_type": "display_data"
    }
   ],
   "source": [
    "import seaborn as sns\n",
    "sns.scatterplot(data=df, x='Fiyat', y='Satış_Miktarı');"
   ]
  },
  {
   "cell_type": "code",
   "execution_count": 21,
   "id": "c604cbfe-2c13-407a-9e19-cc58ddc7e2e4",
   "metadata": {},
   "outputs": [
    {
     "name": "stdout",
     "output_type": "stream",
     "text": [
      "Korelasyon Katsayısı:  0.4243955919514043\n",
      "P-Value:  0.22154911839543012\n",
      "H0 hipotezi reddedilmez. Satış miktarı ve fiyat arasında bir ilişki vardır.\n"
     ]
    }
   ],
   "source": [
    "from scipy.stats import pearsonr\n",
    "\n",
    "corr, p_value = pearsonr(df['Fiyat'], df['Satış_Miktarı'])\n",
    "\n",
    "print('Korelasyon Katsayısı: ', corr)\n",
    "print('P-Value: ', p_value)\n",
    "\n",
    "alpha = 0.05\n",
    "if p_value < alpha:\n",
    "    print('H0 hipotezi reddedilir. Satış miktarı ve fiyat arasında bir ilişki yoktur.')\n",
    "else: \n",
    "    print('H0 hipotezi reddedilmez. Satış miktarı ve fiyat arasında bir ilişki vardır.')"
   ]
  },
  {
   "cell_type": "code",
   "execution_count": null,
   "id": "6a6d1564-d567-4919-a4a6-570792ad8b3e",
   "metadata": {},
   "outputs": [],
   "source": []
  }
 ],
 "metadata": {
  "kernelspec": {
   "display_name": "Python 3 (ipykernel)",
   "language": "python",
   "name": "python3"
  },
  "language_info": {
   "codemirror_mode": {
    "name": "ipython",
    "version": 3
   },
   "file_extension": ".py",
   "mimetype": "text/x-python",
   "name": "python",
   "nbconvert_exporter": "python",
   "pygments_lexer": "ipython3",
   "version": "3.9.12"
  }
 },
 "nbformat": 4,
 "nbformat_minor": 5
}
